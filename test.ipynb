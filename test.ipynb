{
 "cells": [
  {
   "cell_type": "code",
   "execution_count": 19,
   "metadata": {},
   "outputs": [
    {
     "data": {
      "text/html": [
       "<div><style>\n",
       ".dataframe > thead > tr > th,\n",
       ".dataframe > tbody > tr > td {\n",
       "  text-align: right;\n",
       "  white-space: pre-wrap;\n",
       "}\n",
       "</style>\n",
       "<small>shape: (5, 17)</small><table border=\"1\" class=\"dataframe\"><thead><tr><th>Rank</th><th>CCA3</th><th>Country/Territory</th><th>Capital</th><th>Continent</th><th>2022 Population</th><th>2020 Population</th><th>2015 Population</th><th>2010 Population</th><th>2000 Population</th><th>1990 Population</th><th>1980 Population</th><th>1970 Population</th><th>Area (km²)</th><th>Density (per km²)</th><th>Growth Rate</th><th>World Population Percentage</th></tr><tr><td>i64</td><td>str</td><td>str</td><td>str</td><td>str</td><td>i64</td><td>i64</td><td>i64</td><td>i64</td><td>i64</td><td>i64</td><td>i64</td><td>i64</td><td>i64</td><td>f64</td><td>f64</td><td>f64</td></tr></thead><tbody><tr><td>36</td><td>&quot;AFG&quot;</td><td>&quot;Afghanistan&quot;</td><td>&quot;Kabul&quot;</td><td>&quot;Asia&quot;</td><td>41128771</td><td>38972230</td><td>33753499</td><td>28189672</td><td>19542982</td><td>10694796</td><td>12486631</td><td>10752971</td><td>652230</td><td>63.0587</td><td>1.0257</td><td>0.52</td></tr><tr><td>138</td><td>&quot;ALB&quot;</td><td>&quot;Albania&quot;</td><td>&quot;Tirana&quot;</td><td>&quot;Europe&quot;</td><td>2842321</td><td>2866849</td><td>2882481</td><td>2913399</td><td>3182021</td><td>3295066</td><td>2941651</td><td>2324731</td><td>28748</td><td>98.8702</td><td>0.9957</td><td>0.04</td></tr><tr><td>34</td><td>&quot;DZA&quot;</td><td>&quot;Algeria&quot;</td><td>&quot;Algiers&quot;</td><td>&quot;Africa&quot;</td><td>44903225</td><td>43451666</td><td>39543154</td><td>35856344</td><td>30774621</td><td>25518074</td><td>18739378</td><td>13795915</td><td>2381741</td><td>18.8531</td><td>1.0164</td><td>0.56</td></tr><tr><td>213</td><td>&quot;ASM&quot;</td><td>&quot;American Samoa…</td><td>&quot;Pago Pago&quot;</td><td>&quot;Oceania&quot;</td><td>44273</td><td>46189</td><td>51368</td><td>54849</td><td>58230</td><td>47818</td><td>32886</td><td>27075</td><td>199</td><td>222.4774</td><td>0.9831</td><td>0.0</td></tr><tr><td>203</td><td>&quot;AND&quot;</td><td>&quot;Andorra&quot;</td><td>&quot;Andorra la Vel…</td><td>&quot;Europe&quot;</td><td>79824</td><td>77700</td><td>71746</td><td>71519</td><td>66097</td><td>53569</td><td>35611</td><td>19860</td><td>468</td><td>170.5641</td><td>1.01</td><td>0.0</td></tr></tbody></table></div>"
      ],
      "text/plain": [
       "shape: (5, 17)\n",
       "┌──────┬──────┬──────────────┬──────────────┬───┬────────────┬──────────────┬────────┬─────────────┐\n",
       "│ Rank ┆ CCA3 ┆ Country/Terr ┆ Capital      ┆ … ┆ Area (km²) ┆ Density (per ┆ Growth ┆ World       │\n",
       "│ ---  ┆ ---  ┆ itory        ┆ ---          ┆   ┆ ---        ┆ km²)         ┆ Rate   ┆ Population  │\n",
       "│ i64  ┆ str  ┆ ---          ┆ str          ┆   ┆ i64        ┆ ---          ┆ ---    ┆ Percentage  │\n",
       "│      ┆      ┆ str          ┆              ┆   ┆            ┆ f64          ┆ f64    ┆ ---         │\n",
       "│      ┆      ┆              ┆              ┆   ┆            ┆              ┆        ┆ f64         │\n",
       "╞══════╪══════╪══════════════╪══════════════╪═══╪════════════╪══════════════╪════════╪═════════════╡\n",
       "│ 36   ┆ AFG  ┆ Afghanistan  ┆ Kabul        ┆ … ┆ 652230     ┆ 63.0587      ┆ 1.0257 ┆ 0.52        │\n",
       "│ 138  ┆ ALB  ┆ Albania      ┆ Tirana       ┆ … ┆ 28748      ┆ 98.8702      ┆ 0.9957 ┆ 0.04        │\n",
       "│ 34   ┆ DZA  ┆ Algeria      ┆ Algiers      ┆ … ┆ 2381741    ┆ 18.8531      ┆ 1.0164 ┆ 0.56        │\n",
       "│ 213  ┆ ASM  ┆ American     ┆ Pago Pago    ┆ … ┆ 199        ┆ 222.4774     ┆ 0.9831 ┆ 0.0         │\n",
       "│      ┆      ┆ Samoa        ┆              ┆   ┆            ┆              ┆        ┆             │\n",
       "│ 203  ┆ AND  ┆ Andorra      ┆ Andorra la   ┆ … ┆ 468        ┆ 170.5641     ┆ 1.01   ┆ 0.0         │\n",
       "│      ┆      ┆              ┆ Vella        ┆   ┆            ┆              ┆        ┆             │\n",
       "└──────┴──────┴──────────────┴──────────────┴───┴────────────┴──────────────┴────────┴─────────────┘"
      ]
     },
     "execution_count": 19,
     "metadata": {},
     "output_type": "execute_result"
    }
   ],
   "source": [
    "import matplotlib.pyplot as plt\n",
    "import polars as pl\n",
    "import pyarrow as pa\n",
    "\n",
    "WP_data = pl.read_csv('world_population.csv')\n",
    "\n",
    "\n",
    "WP_data.head()"
   ]
  },
  {
   "cell_type": "code",
   "execution_count": 5,
   "metadata": {},
   "outputs": [
    {
     "data": {
      "text/plain": [
       "['Rank',\n",
       " 'CCA3',\n",
       " 'Country/Territory',\n",
       " 'Capital',\n",
       " 'Continent',\n",
       " '2022 Population',\n",
       " '2020 Population',\n",
       " '2015 Population',\n",
       " '2010 Population',\n",
       " '2000 Population',\n",
       " '1990 Population',\n",
       " '1980 Population',\n",
       " '1970 Population',\n",
       " 'Area (km²)',\n",
       " 'Density (per km²)',\n",
       " 'Growth Rate',\n",
       " 'World Population Percentage']"
      ]
     },
     "execution_count": 5,
     "metadata": {},
     "output_type": "execute_result"
    }
   ],
   "source": [
    "WP_data.columns"
   ]
  },
  {
   "cell_type": "code",
   "execution_count": 6,
   "metadata": {},
   "outputs": [
    {
     "name": "stdout",
     "output_type": "stream",
     "text": [
      "=== Dataset Overview ===\n",
      "shape: (5, 3)\n",
      "┌─────────────────┬─────────────┬────────────┐\n",
      "│ 2022 Population ┆ Growth Rate ┆ Area (km²) │\n",
      "│ ---             ┆ ---         ┆ ---        │\n",
      "│ i64             ┆ f64         ┆ i64        │\n",
      "╞═════════════════╪═════════════╪════════════╡\n",
      "│ 41128771        ┆ 1.0257      ┆ 652230     │\n",
      "│ 2842321         ┆ 0.9957      ┆ 28748      │\n",
      "│ 44903225        ┆ 1.0164      ┆ 2381741    │\n",
      "│ 44273           ┆ 0.9831      ┆ 199        │\n",
      "│ 79824           ┆ 1.01        ┆ 468        │\n",
      "└─────────────────┴─────────────┴────────────┘\n",
      "\n",
      "\n"
     ]
    }
   ],
   "source": [
    "#country's population in 2022, growth rate and area.\n",
    "\n",
    "df = WP_data[['2022 Population','Growth Rate','Area (km²)']]\n",
    "\n",
    "# Head 5 rows\n",
    "print(\"=== Dataset Overview ===\")\n",
    "print(df.head())\n",
    "print(\"\\n\")"
   ]
  },
  {
   "cell_type": "code",
   "execution_count": 7,
   "metadata": {},
   "outputs": [
    {
     "name": "stdout",
     "output_type": "stream",
     "text": [
      "=== Descriptive Statistics Overview ===\n",
      "shape: (9, 4)\n",
      "┌────────────┬─────────────────┬─────────────┬───────────────┐\n",
      "│ describe   ┆ 2022 Population ┆ Growth Rate ┆ Area (km²)    │\n",
      "│ ---        ┆ ---             ┆ ---         ┆ ---           │\n",
      "│ str        ┆ f64             ┆ f64         ┆ f64           │\n",
      "╞════════════╪═════════════════╪═════════════╪═══════════════╡\n",
      "│ count      ┆ 234.0           ┆ 234.0       ┆ 234.0         │\n",
      "│ null_count ┆ 0.0             ┆ 0.0         ┆ 0.0           │\n",
      "│ mean       ┆ 3.4074e7        ┆ 1.009577    ┆ 581449.384615 │\n",
      "│ std        ┆ 1.3677e8        ┆ 0.013385    ┆ 1.7618e6      │\n",
      "│ min        ┆ 510.0           ┆ 0.912       ┆ 1.0           │\n",
      "│ 25%        ┆ 409984.0        ┆ 1.0017      ┆ 2586.0        │\n",
      "│ 50%        ┆ 5.579144e6      ┆ 1.0079      ┆ 83534.0       │\n",
      "│ 75%        ┆ 2.259359e7      ┆ 1.0171      ┆ 438317.0      │\n",
      "│ max        ┆ 1.4259e9        ┆ 1.0691      ┆ 1.7098242e7   │\n",
      "└────────────┴─────────────────┴─────────────┴───────────────┘\n",
      "\n",
      "\n"
     ]
    }
   ],
   "source": [
    "# Summary statistics using the describe method\n",
    "summary_stats = df.describe()\n",
    "print(\"=== Descriptive Statistics Overview ===\")\n",
    "print(summary_stats)\n",
    "print(\"\\n\")"
   ]
  },
  {
   "cell_type": "code",
   "execution_count": 8,
   "metadata": {},
   "outputs": [
    {
     "name": "stdout",
     "output_type": "stream",
     "text": [
      "=== Mean and Median Overview ===\n",
      "Mean:\n",
      " shape: (1, 3)\n",
      "┌─────────────────┬─────────────┬───────────────┐\n",
      "│ 2022 Population ┆ Growth Rate ┆ Area (km²)    │\n",
      "│ ---             ┆ ---         ┆ ---           │\n",
      "│ f64             ┆ f64         ┆ f64           │\n",
      "╞═════════════════╪═════════════╪═══════════════╡\n",
      "│ 3.4074e7        ┆ 1.009577    ┆ 581449.384615 │\n",
      "└─────────────────┴─────────────┴───────────────┘\n",
      "Median:\n",
      " shape: (1, 3)\n",
      "┌─────────────────┬─────────────┬────────────┐\n",
      "│ 2022 Population ┆ Growth Rate ┆ Area (km²) │\n",
      "│ ---             ┆ ---         ┆ ---        │\n",
      "│ f64             ┆ f64         ┆ f64        │\n",
      "╞═════════════════╪═════════════╪════════════╡\n",
      "│ 5559944.5       ┆ 1.0079      ┆ 81199.5    │\n",
      "└─────────────────┴─────────────┴────────────┘\n",
      "\n",
      "\n"
     ]
    }
   ],
   "source": [
    "# Mean, Median and Mode\n",
    "print(\"=== Mean and Median Overview ===\")\n",
    "mean = df.mean()\n",
    "median = df.median()\n",
    "print(\"Mean:\\n\", mean)\n",
    "print(\"Median:\\n\", median)\n",
    "print(\"\\n\")"
   ]
  },
  {
   "cell_type": "code",
   "execution_count": 9,
   "metadata": {},
   "outputs": [
    {
     "name": "stdout",
     "output_type": "stream",
     "text": [
      "=== Variance and standard deviation Overview ===\n",
      "Variance:\n",
      " shape: (1, 3)\n",
      "┌─────────────────┬─────────────┬────────────┐\n",
      "│ 2022 Population ┆ Growth Rate ┆ Area (km²) │\n",
      "│ ---             ┆ ---         ┆ ---        │\n",
      "│ f64             ┆ f64         ┆ f64        │\n",
      "╞═════════════════╪═════════════╪════════════╡\n",
      "│ 1.8705e16       ┆ 0.000179    ┆ 3.1041e12  │\n",
      "└─────────────────┴─────────────┴────────────┘\n",
      "Standard Deviation:\n",
      " shape: (1, 3)\n",
      "┌─────────────────┬─────────────┬────────────┐\n",
      "│ 2022 Population ┆ Growth Rate ┆ Area (km²) │\n",
      "│ ---             ┆ ---         ┆ ---        │\n",
      "│ f64             ┆ f64         ┆ f64        │\n",
      "╞═════════════════╪═════════════╪════════════╡\n",
      "│ 1.3677e8        ┆ 0.013385    ┆ 1.7618e6   │\n",
      "└─────────────────┴─────────────┴────────────┘\n"
     ]
    }
   ],
   "source": [
    "# Variance and standard deviation\n",
    "variance = df.var()\n",
    "std_deviation = df.std()\n",
    "print(\"=== Variance and standard deviation Overview ===\")\n",
    "print(\"Variance:\\n\", variance)\n",
    "print(\"Standard Deviation:\\n\", std_deviation)"
   ]
  },
  {
   "cell_type": "code",
   "execution_count": 10,
   "metadata": {},
   "outputs": [
    {
     "data": {
      "image/png": "[encoded data removed]",
      "text/plain": [
       "<Figure size 640x480 with 1 Axes>"
      ]
     },
     "metadata": {},
     "output_type": "display_data"
    }
   ],
   "source": [
    "plt.hist(df[['2022 Population']], bins=20, color='blue', alpha=0.7)\n",
    "plt.xlabel('Value')\n",
    "plt.ylabel('Frequency')\n",
    "plt.title('Histogram of 2022 Population ')\n",
    "plt.show()"
   ]
  },
  {
   "cell_type": "code",
   "execution_count": 11,
   "metadata": {},
   "outputs": [
    {
     "data": {
      "image/png": "[encoded data removed]",
      "text/plain": [
       "<Figure size 640x480 with 1 Axes>"
      ]
     },
     "metadata": {},
     "output_type": "display_data"
    }
   ],
   "source": [
    "# Create a boxplot\n",
    "plt.boxplot(df[['2022 Population']])\n",
    "\n",
    "# Add labels and title\n",
    "plt.xlabel('2022')\n",
    "plt.ylabel('2022 Population')\n",
    "plt.title('Boxplot of 2022 Population')\n",
    "\n",
    "# Show the plot\n",
    "plt.show()"
   ]
  }
 ],
 "metadata": {
  "kernelspec": {
   "display_name": "venv",
   "language": "python",
   "name": "python3"
  },
  "language_info": {
   "codemirror_mode": {
    "name": "ipython",
    "version": 3
   },
   "file_extension": ".py",
   "mimetype": "text/x-python",
   "name": "python",
   "nbconvert_exporter": "python",
   "pygments_lexer": "ipython3",
   "version": "3.8.10"
  },
  "orig_nbformat": 4
 },
 "nbformat": 4,
 "nbformat_minor": 2
}
